{
 "cells": [
  {
   "cell_type": "code",
   "execution_count": 1,
   "id": "9fa661bb",
   "metadata": {},
   "outputs": [
    {
     "name": "stdout",
     "output_type": "stream",
     "text": [
      "\u001b[31mERROR: pip's dependency resolver does not currently take into account all the packages that are installed. This behaviour is the source of the following dependency conflicts.\r\n",
      "awscli 1.34.4 requires botocore==1.35.4, but you have botocore 1.34.162 which is incompatible.\u001b[0m\u001b[31m\r\n",
      "\u001b[0m"
     ]
    }
   ],
   "source": [
    "!pip install --quiet langchain_community pymupdf langchain_postgres langchain_experimental open_clip_torch \"psycopg[binary,pool]\" psycopg2-binary langchain-aws faiss-cpu python-dotenv transformers"
   ]
  },
  {
   "cell_type": "code",
   "execution_count": 1,
   "id": "f0c13ff6",
   "metadata": {},
   "outputs": [
    {
     "name": "stderr",
     "output_type": "stream",
     "text": [
      "INFO:botocore.credentials:Found credentials from IAM Role: BaseNotebookInstanceEc2InstanceRole\n",
      "/home/ec2-user/anaconda3/envs/pytorch_p310/lib/python3.10/site-packages/transformers/tokenization_utils_base.py:1601: FutureWarning: `clean_up_tokenization_spaces` was not set. It will be set to `True` by default. This behavior will be depracted in transformers v4.45, and will be then set to `False` by default. For more details check this issue: https://github.com/huggingface/transformers/issues/31884\n",
      "  warnings.warn(\n"
     ]
    }
   ],
   "source": [
    "from langchain_experimental.open_clip import OpenCLIPEmbeddings\n",
    "\n",
    "from helpers.param_manager import get_param_manager\n",
    "from helpers.vectorstore import update_vectorstore, get_vectorstore_retriever\n",
    "from helpers.chat import get_bedrock_llm, get_initial_student_query, get_student_query, create_dynamodb_history_table, get_response"
   ]
  },
  {
   "cell_type": "markdown",
   "id": "eaf87dbe",
   "metadata": {},
   "source": [
    "## 1. Calling the 'update_vectorstore' function to update the embeddings in the vectorstore"
   ]
  },
  {
   "cell_type": "code",
   "execution_count": 2,
   "id": "a83189f4",
   "metadata": {},
   "outputs": [
    {
     "name": "stderr",
     "output_type": "stream",
     "text": [
      "INFO:root:Loaded ViT-H-14 model config.\n",
      "INFO:root:Loading pretrained ViT-H-14 weights (laion2b_s32b_b79k).\n",
      "INFO:botocore.credentials:Found credentials from IAM Role: BaseNotebookInstanceEc2InstanceRole\n"
     ]
    },
    {
     "name": "stdout",
     "output_type": "stream",
     "text": [
      "No named profile found, running default session\n",
      "AWS session and clients initialized successfully.\n",
      "Got param manager for region: None\n"
     ]
    },
    {
     "name": "stderr",
     "output_type": "stream",
     "text": [
      "INFO:helpers.helper:Connecting to the database\n",
      "INFO:helpers.helper:Connected to the database\n",
      "INFO:helpers.helper:Initializing the VectorStore\n",
      "INFO:helpers.helper:VectorStore initialized\n",
      "Processing pages:   0%|          | 0/8 [00:00<?, ?it/s]\n",
      "Storing chunks for cpsc210-kb/module/documents/CPSC_210_-_Control-Flow_Models.pdf_page_1.txt:   0%|          | 0/2 [00:00<?, ?it/s]\u001b[A\n",
      "Storing chunks for cpsc210-kb/module/documents/CPSC_210_-_Control-Flow_Models.pdf_page_1.txt:  50%|█████     | 1/2 [00:00<00:00,  2.49it/s]\u001b[A\n",
      "Storing chunks for cpsc210-kb/module/documents/CPSC_210_-_Control-Flow_Models.pdf_page_1.txt: 100%|██████████| 2/2 [00:00<00:00,  2.60it/s]\u001b[A\n",
      "Processing pages:  12%|█▎        | 1/8 [00:06<00:43,  6.24s/it]\n",
      "Storing chunks for cpsc210-kb/module/documents/CPSC_210_-_Control-Flow_Models.pdf_page_2.txt:   0%|          | 0/2 [00:00<?, ?it/s]\u001b[A\n",
      "Storing chunks for cpsc210-kb/module/documents/CPSC_210_-_Control-Flow_Models.pdf_page_2.txt:  50%|█████     | 1/2 [00:00<00:00,  3.05it/s]\u001b[A\n",
      "Storing chunks for cpsc210-kb/module/documents/CPSC_210_-_Control-Flow_Models.pdf_page_2.txt: 100%|██████████| 2/2 [00:00<00:00,  3.00it/s]\u001b[A\n",
      "Processing pages:  25%|██▌       | 2/8 [00:10<00:30,  5.15s/it]\n",
      "Storing chunks for cpsc210-kb/module/documents/CPSC_210_-_Control-Flow_Models.pdf_page_3.txt:   0%|          | 0/2 [00:00<?, ?it/s]\u001b[A\n",
      "Storing chunks for cpsc210-kb/module/documents/CPSC_210_-_Control-Flow_Models.pdf_page_3.txt:  50%|█████     | 1/2 [00:00<00:00,  3.28it/s]\u001b[A\n",
      "Storing chunks for cpsc210-kb/module/documents/CPSC_210_-_Control-Flow_Models.pdf_page_3.txt: 100%|██████████| 2/2 [00:00<00:00,  3.40it/s]\u001b[A\n",
      "Processing pages:  38%|███▊      | 3/8 [00:16<00:28,  5.65s/it]\n",
      "Storing chunks for cpsc210-kb/module/documents/CPSC_210_-_Control-Flow_Models.pdf_page_4.txt:   0%|          | 0/2 [00:00<?, ?it/s]\u001b[A\n",
      "Storing chunks for cpsc210-kb/module/documents/CPSC_210_-_Control-Flow_Models.pdf_page_4.txt:  50%|█████     | 1/2 [00:00<00:00,  2.51it/s]\u001b[A\n",
      "Storing chunks for cpsc210-kb/module/documents/CPSC_210_-_Control-Flow_Models.pdf_page_4.txt: 100%|██████████| 2/2 [00:00<00:00,  2.75it/s]\u001b[A\n",
      "Processing pages:  50%|█████     | 4/8 [00:21<00:21,  5.41s/it]\n",
      "Storing chunks for cpsc210-kb/module/documents/CPSC_210_-_Control-Flow_Models.pdf_page_5.txt:   0%|          | 0/2 [00:00<?, ?it/s]\u001b[A\n",
      "Storing chunks for cpsc210-kb/module/documents/CPSC_210_-_Control-Flow_Models.pdf_page_5.txt:  50%|█████     | 1/2 [00:00<00:00,  3.03it/s]\u001b[A\n",
      "Storing chunks for cpsc210-kb/module/documents/CPSC_210_-_Control-Flow_Models.pdf_page_5.txt: 100%|██████████| 2/2 [00:00<00:00,  3.12it/s]\u001b[A\n",
      "Processing pages:  62%|██████▎   | 5/8 [00:25<00:13,  4.65s/it]\n",
      "Storing chunks for cpsc210-kb/module/documents/CPSC_210_-_Control-Flow_Models.pdf_page_6.txt:   0%|          | 0/2 [00:00<?, ?it/s]\u001b[A\n",
      "Storing chunks for cpsc210-kb/module/documents/CPSC_210_-_Control-Flow_Models.pdf_page_6.txt:  50%|█████     | 1/2 [00:00<00:00,  3.29it/s]\u001b[A\n",
      "Storing chunks for cpsc210-kb/module/documents/CPSC_210_-_Control-Flow_Models.pdf_page_6.txt: 100%|██████████| 2/2 [00:00<00:00,  2.80it/s]\u001b[A\n",
      "Processing pages:  75%|███████▌  | 6/8 [00:30<00:09,  4.91s/it]\n",
      "Storing chunks for cpsc210-kb/module/documents/CPSC_210_-_Control-Flow_Models.pdf_page_7.txt:   0%|          | 0/2 [00:00<?, ?it/s]\u001b[A\n",
      "Storing chunks for cpsc210-kb/module/documents/CPSC_210_-_Control-Flow_Models.pdf_page_7.txt:  50%|█████     | 1/2 [00:00<00:00,  2.67it/s]\u001b[A\n",
      "Storing chunks for cpsc210-kb/module/documents/CPSC_210_-_Control-Flow_Models.pdf_page_7.txt: 100%|██████████| 2/2 [00:00<00:00,  2.33it/s]\u001b[A\n",
      "Processing pages:  88%|████████▊ | 7/8 [00:36<00:05,  5.23s/it]\n",
      "Storing chunks for cpsc210-kb/module/documents/CPSC_210_-_Control-Flow_Models.pdf_page_8.txt:   0%|          | 0/2 [00:00<?, ?it/s]\u001b[A\n",
      "Storing chunks for cpsc210-kb/module/documents/CPSC_210_-_Control-Flow_Models.pdf_page_8.txt:  50%|█████     | 1/2 [00:00<00:00,  3.41it/s]\u001b[A\n",
      "Storing chunks for cpsc210-kb/module/documents/CPSC_210_-_Control-Flow_Models.pdf_page_8.txt: 100%|██████████| 2/2 [00:00<00:00,  3.06it/s]\u001b[A\n",
      "Processing pages: 100%|██████████| 8/8 [00:38<00:00,  4.78s/it]\n",
      "Processing pages:   0%|          | 0/14 [00:00<?, ?it/s]\n",
      "Storing chunks for cpsc210-kb/module/documents/CPSC_210_-_Data_Abstraction.pdf_page_1.txt:   0%|          | 0/2 [00:00<?, ?it/s]\u001b[A\n",
      "Storing chunks for cpsc210-kb/module/documents/CPSC_210_-_Data_Abstraction.pdf_page_1.txt:  50%|█████     | 1/2 [00:00<00:00,  3.39it/s]\u001b[A\n",
      "Storing chunks for cpsc210-kb/module/documents/CPSC_210_-_Data_Abstraction.pdf_page_1.txt: 100%|██████████| 2/2 [00:00<00:00,  2.83it/s]\u001b[A\n",
      "Processing pages:   7%|▋         | 1/14 [00:08<01:52,  8.64s/it]\n",
      "Storing chunks for cpsc210-kb/module/documents/CPSC_210_-_Data_Abstraction.pdf_page_2.txt:   0%|          | 0/3 [00:00<?, ?it/s]\u001b[A\n",
      "Storing chunks for cpsc210-kb/module/documents/CPSC_210_-_Data_Abstraction.pdf_page_2.txt:  33%|███▎      | 1/3 [00:00<00:00,  2.64it/s]\u001b[A\n",
      "Storing chunks for cpsc210-kb/module/documents/CPSC_210_-_Data_Abstraction.pdf_page_2.txt:  67%|██████▋   | 2/3 [00:00<00:00,  2.81it/s]\u001b[A\n",
      "Storing chunks for cpsc210-kb/module/documents/CPSC_210_-_Data_Abstraction.pdf_page_2.txt: 100%|██████████| 3/3 [00:01<00:00,  2.76it/s]\u001b[A\n",
      "Processing pages:  14%|█▍        | 2/14 [00:19<02:01, 10.10s/it]\n",
      "Storing chunks for cpsc210-kb/module/documents/CPSC_210_-_Data_Abstraction.pdf_page_3.txt:   0%|          | 0/3 [00:00<?, ?it/s]\u001b[A\n",
      "Storing chunks for cpsc210-kb/module/documents/CPSC_210_-_Data_Abstraction.pdf_page_3.txt:  33%|███▎      | 1/3 [00:00<00:00,  3.13it/s]\u001b[A\n",
      "Storing chunks for cpsc210-kb/module/documents/CPSC_210_-_Data_Abstraction.pdf_page_3.txt:  67%|██████▋   | 2/3 [00:00<00:00,  3.14it/s]\u001b[A\n",
      "Storing chunks for cpsc210-kb/module/documents/CPSC_210_-_Data_Abstraction.pdf_page_3.txt: 100%|██████████| 3/3 [00:00<00:00,  3.05it/s]\u001b[A\n",
      "Processing pages:  21%|██▏       | 3/14 [00:28<01:44,  9.53s/it]\n",
      "Storing chunks for cpsc210-kb/module/documents/CPSC_210_-_Data_Abstraction.pdf_page_4.txt:   0%|          | 0/3 [00:00<?, ?it/s]\u001b[A\n",
      "Storing chunks for cpsc210-kb/module/documents/CPSC_210_-_Data_Abstraction.pdf_page_4.txt:  33%|███▎      | 1/3 [00:00<00:00,  2.19it/s]\u001b[A\n",
      "Storing chunks for cpsc210-kb/module/documents/CPSC_210_-_Data_Abstraction.pdf_page_4.txt:  67%|██████▋   | 2/3 [00:00<00:00,  2.21it/s]\u001b[A\n",
      "Storing chunks for cpsc210-kb/module/documents/CPSC_210_-_Data_Abstraction.pdf_page_4.txt: 100%|██████████| 3/3 [00:01<00:00,  2.03it/s]\u001b[A\n",
      "Processing pages:  29%|██▊       | 4/14 [00:38<01:36,  9.68s/it]\n",
      "Storing chunks for cpsc210-kb/module/documents/CPSC_210_-_Data_Abstraction.pdf_page_5.txt:   0%|          | 0/2 [00:00<?, ?it/s]\u001b[A\n",
      "Storing chunks for cpsc210-kb/module/documents/CPSC_210_-_Data_Abstraction.pdf_page_5.txt:  50%|█████     | 1/2 [00:00<00:00,  2.86it/s]\u001b[A\n",
      "Storing chunks for cpsc210-kb/module/documents/CPSC_210_-_Data_Abstraction.pdf_page_5.txt: 100%|██████████| 2/2 [00:00<00:00,  2.35it/s]\u001b[A\n",
      "Processing pages:  36%|███▌      | 5/14 [00:45<01:19,  8.85s/it]\n",
      "Storing chunks for cpsc210-kb/module/documents/CPSC_210_-_Data_Abstraction.pdf_page_6.txt:   0%|          | 0/2 [00:00<?, ?it/s]\u001b[A\n",
      "Storing chunks for cpsc210-kb/module/documents/CPSC_210_-_Data_Abstraction.pdf_page_6.txt:  50%|█████     | 1/2 [00:00<00:00,  2.42it/s]\u001b[A\n",
      "Storing chunks for cpsc210-kb/module/documents/CPSC_210_-_Data_Abstraction.pdf_page_6.txt: 100%|██████████| 2/2 [00:00<00:00,  2.45it/s]\u001b[A\n",
      "Processing pages:  43%|████▎     | 6/14 [00:54<01:10,  8.87s/it]\n",
      "Storing chunks for cpsc210-kb/module/documents/CPSC_210_-_Data_Abstraction.pdf_page_7.txt:   0%|          | 0/3 [00:00<?, ?it/s]\u001b[A\n",
      "Storing chunks for cpsc210-kb/module/documents/CPSC_210_-_Data_Abstraction.pdf_page_7.txt:  33%|███▎      | 1/3 [00:00<00:00,  2.48it/s]\u001b[A\n",
      "Storing chunks for cpsc210-kb/module/documents/CPSC_210_-_Data_Abstraction.pdf_page_7.txt:  67%|██████▋   | 2/3 [00:00<00:00,  2.70it/s]\u001b[A\n",
      "Storing chunks for cpsc210-kb/module/documents/CPSC_210_-_Data_Abstraction.pdf_page_7.txt: 100%|██████████| 3/3 [00:01<00:00,  2.79it/s]\u001b[A\n",
      "Processing pages:  50%|█████     | 7/14 [01:07<01:11, 10.26s/it]\n",
      "Storing chunks for cpsc210-kb/module/documents/CPSC_210_-_Data_Abstraction.pdf_page_8.txt:   0%|          | 0/3 [00:00<?, ?it/s]\u001b[A\n",
      "Storing chunks for cpsc210-kb/module/documents/CPSC_210_-_Data_Abstraction.pdf_page_8.txt:  33%|███▎      | 1/3 [00:00<00:00,  2.94it/s]\u001b[A\n",
      "Storing chunks for cpsc210-kb/module/documents/CPSC_210_-_Data_Abstraction.pdf_page_8.txt:  67%|██████▋   | 2/3 [00:00<00:00,  3.00it/s]\u001b[A\n",
      "Storing chunks for cpsc210-kb/module/documents/CPSC_210_-_Data_Abstraction.pdf_page_8.txt: 100%|██████████| 3/3 [00:00<00:00,  3.03it/s]\u001b[A\n",
      "Processing pages:  57%|█████▋    | 8/14 [01:17<01:00, 10.09s/it]\n",
      "Storing chunks for cpsc210-kb/module/documents/CPSC_210_-_Data_Abstraction.pdf_page_9.txt:   0%|          | 0/3 [00:00<?, ?it/s]\u001b[A\n",
      "Storing chunks for cpsc210-kb/module/documents/CPSC_210_-_Data_Abstraction.pdf_page_9.txt:  33%|███▎      | 1/3 [00:00<00:00,  3.50it/s]\u001b[A\n",
      "Storing chunks for cpsc210-kb/module/documents/CPSC_210_-_Data_Abstraction.pdf_page_9.txt:  67%|██████▋   | 2/3 [00:00<00:00,  3.35it/s]\u001b[A\n",
      "Storing chunks for cpsc210-kb/module/documents/CPSC_210_-_Data_Abstraction.pdf_page_9.txt: 100%|██████████| 3/3 [00:00<00:00,  3.43it/s]\u001b[A\n",
      "Processing pages:  64%|██████▍   | 9/14 [01:27<00:50, 10.13s/it]\n",
      "Storing chunks for cpsc210-kb/module/documents/CPSC_210_-_Data_Abstraction.pdf_page_10.txt:   0%|          | 0/2 [00:00<?, ?it/s]\u001b[A\n",
      "Storing chunks for cpsc210-kb/module/documents/CPSC_210_-_Data_Abstraction.pdf_page_10.txt:  50%|█████     | 1/2 [00:00<00:00,  2.16it/s]\u001b[A\n",
      "Storing chunks for cpsc210-kb/module/documents/CPSC_210_-_Data_Abstraction.pdf_page_10.txt: 100%|██████████| 2/2 [00:00<00:00,  2.47it/s]\u001b[A\n",
      "Processing pages:  71%|███████▏  | 10/14 [01:34<00:36,  9.14s/it]\n",
      "Storing chunks for cpsc210-kb/module/documents/CPSC_210_-_Data_Abstraction.pdf_page_11.txt:   0%|          | 0/3 [00:00<?, ?it/s]\u001b[A\n",
      "Storing chunks for cpsc210-kb/module/documents/CPSC_210_-_Data_Abstraction.pdf_page_11.txt:  33%|███▎      | 1/3 [00:00<00:01,  1.92it/s]\u001b[A\n",
      "Storing chunks for cpsc210-kb/module/documents/CPSC_210_-_Data_Abstraction.pdf_page_11.txt:  67%|██████▋   | 2/3 [00:00<00:00,  2.39it/s]\u001b[A\n",
      "Storing chunks for cpsc210-kb/module/documents/CPSC_210_-_Data_Abstraction.pdf_page_11.txt: 100%|██████████| 3/3 [00:01<00:00,  2.56it/s]\u001b[A\n",
      "Processing pages:  79%|███████▊  | 11/14 [01:46<00:29,  9.87s/it]\n",
      "Storing chunks for cpsc210-kb/module/documents/CPSC_210_-_Data_Abstraction.pdf_page_12.txt:   0%|          | 0/3 [00:00<?, ?it/s]\u001b[A\n",
      "Storing chunks for cpsc210-kb/module/documents/CPSC_210_-_Data_Abstraction.pdf_page_12.txt:  33%|███▎      | 1/3 [00:00<00:00,  3.36it/s]\u001b[A\n",
      "Storing chunks for cpsc210-kb/module/documents/CPSC_210_-_Data_Abstraction.pdf_page_12.txt:  67%|██████▋   | 2/3 [00:00<00:00,  3.28it/s]\u001b[A\n",
      "Storing chunks for cpsc210-kb/module/documents/CPSC_210_-_Data_Abstraction.pdf_page_12.txt: 100%|██████████| 3/3 [00:00<00:00,  3.20it/s]\u001b[A\n",
      "Processing pages:  86%|████████▌ | 12/14 [01:56<00:20, 10.07s/it]\n",
      "Storing chunks for cpsc210-kb/module/documents/CPSC_210_-_Data_Abstraction.pdf_page_13.txt:   0%|          | 0/3 [00:00<?, ?it/s]\u001b[A\n",
      "Storing chunks for cpsc210-kb/module/documents/CPSC_210_-_Data_Abstraction.pdf_page_13.txt:  33%|███▎      | 1/3 [00:00<00:00,  2.49it/s]\u001b[A\n",
      "Storing chunks for cpsc210-kb/module/documents/CPSC_210_-_Data_Abstraction.pdf_page_13.txt:  67%|██████▋   | 2/3 [00:00<00:00,  2.48it/s]\u001b[A\n",
      "Storing chunks for cpsc210-kb/module/documents/CPSC_210_-_Data_Abstraction.pdf_page_13.txt: 100%|██████████| 3/3 [00:01<00:00,  2.50it/s]\u001b[A\n",
      "Processing pages:  93%|█████████▎| 13/14 [02:08<00:10, 10.40s/it]\n",
      "Storing chunks for cpsc210-kb/module/documents/CPSC_210_-_Data_Abstraction.pdf_page_14.txt:   0%|          | 0/2 [00:00<?, ?it/s]\u001b[A\n",
      "Storing chunks for cpsc210-kb/module/documents/CPSC_210_-_Data_Abstraction.pdf_page_14.txt:  50%|█████     | 1/2 [00:00<00:00,  2.60it/s]\u001b[A\n",
      "Storing chunks for cpsc210-kb/module/documents/CPSC_210_-_Data_Abstraction.pdf_page_14.txt: 100%|██████████| 2/2 [00:00<00:00,  2.59it/s]\u001b[A\n",
      "Processing pages: 100%|██████████| 14/14 [02:11<00:00,  9.37s/it]\n",
      "Processing pages:   0%|          | 0/12 [00:00<?, ?it/s]\n",
      "Storing chunks for cpsc210-kb/module/documents/CPSC_210_-_Implementing_an_Object_Oriented_Design.pdf_page_1.txt:   0%|          | 0/2 [00:00<?, ?it/s]\u001b[A\n",
      "Storing chunks for cpsc210-kb/module/documents/CPSC_210_-_Implementing_an_Object_Oriented_Design.pdf_page_1.txt:  50%|█████     | 1/2 [00:00<00:00,  3.58it/s]\u001b[A\n",
      "Storing chunks for cpsc210-kb/module/documents/CPSC_210_-_Implementing_an_Object_Oriented_Design.pdf_page_1.txt: 100%|██████████| 2/2 [00:00<00:00,  3.39it/s]\u001b[A\n",
      "Processing pages:   8%|▊         | 1/12 [00:05<01:00,  5.54s/it]\n",
      "Storing chunks for cpsc210-kb/module/documents/CPSC_210_-_Implementing_an_Object_Oriented_Design.pdf_page_2.txt:   0%|          | 0/2 [00:00<?, ?it/s]\u001b[A\n",
      "Storing chunks for cpsc210-kb/module/documents/CPSC_210_-_Implementing_an_Object_Oriented_Design.pdf_page_2.txt:  50%|█████     | 1/2 [00:00<00:00,  2.87it/s]\u001b[A\n",
      "Storing chunks for cpsc210-kb/module/documents/CPSC_210_-_Implementing_an_Object_Oriented_Design.pdf_page_2.txt: 100%|██████████| 2/2 [00:00<00:00,  2.62it/s]\u001b[A\n",
      "Processing pages:  17%|█▋        | 2/12 [00:09<00:47,  4.72s/it]\n",
      "Storing chunks for cpsc210-kb/module/documents/CPSC_210_-_Implementing_an_Object_Oriented_Design.pdf_page_3.txt:   0%|          | 0/2 [00:00<?, ?it/s]\u001b[A\n",
      "Storing chunks for cpsc210-kb/module/documents/CPSC_210_-_Implementing_an_Object_Oriented_Design.pdf_page_3.txt:  50%|█████     | 1/2 [00:00<00:00,  3.07it/s]\u001b[A\n",
      "Storing chunks for cpsc210-kb/module/documents/CPSC_210_-_Implementing_an_Object_Oriented_Design.pdf_page_3.txt: 100%|██████████| 2/2 [00:00<00:00,  2.92it/s]\u001b[A\n",
      "Processing pages:  25%|██▌       | 3/12 [00:17<00:56,  6.26s/it]\n",
      "Storing chunks for cpsc210-kb/module/documents/CPSC_210_-_Implementing_an_Object_Oriented_Design.pdf_page_4.txt:   0%|          | 0/2 [00:00<?, ?it/s]\u001b[A\n",
      "Storing chunks for cpsc210-kb/module/documents/CPSC_210_-_Implementing_an_Object_Oriented_Design.pdf_page_4.txt:  50%|█████     | 1/2 [00:00<00:00,  3.15it/s]\u001b[A\n",
      "Storing chunks for cpsc210-kb/module/documents/CPSC_210_-_Implementing_an_Object_Oriented_Design.pdf_page_4.txt: 100%|██████████| 2/2 [00:00<00:00,  3.18it/s]\u001b[A\n",
      "Processing pages:  33%|███▎      | 4/12 [00:22<00:45,  5.65s/it]\n",
      "Storing chunks for cpsc210-kb/module/documents/CPSC_210_-_Implementing_an_Object_Oriented_Design.pdf_page_5.txt:   0%|          | 0/3 [00:00<?, ?it/s]\u001b[A\n",
      "Storing chunks for cpsc210-kb/module/documents/CPSC_210_-_Implementing_an_Object_Oriented_Design.pdf_page_5.txt:  33%|███▎      | 1/3 [00:00<00:00,  3.56it/s]\u001b[A\n",
      "Storing chunks for cpsc210-kb/module/documents/CPSC_210_-_Implementing_an_Object_Oriented_Design.pdf_page_5.txt:  67%|██████▋   | 2/3 [00:00<00:00,  3.37it/s]\u001b[A\n",
      "Storing chunks for cpsc210-kb/module/documents/CPSC_210_-_Implementing_an_Object_Oriented_Design.pdf_page_5.txt: 100%|██████████| 3/3 [00:00<00:00,  3.35it/s]\u001b[A\n",
      "Processing pages:  42%|████▏     | 5/12 [00:30<00:46,  6.62s/it]\n",
      "Storing chunks for cpsc210-kb/module/documents/CPSC_210_-_Implementing_an_Object_Oriented_Design.pdf_page_6.txt:   0%|          | 0/2 [00:00<?, ?it/s]\u001b[A\n",
      "Storing chunks for cpsc210-kb/module/documents/CPSC_210_-_Implementing_an_Object_Oriented_Design.pdf_page_6.txt:  50%|█████     | 1/2 [00:00<00:00,  2.34it/s]\u001b[A\n",
      "Storing chunks for cpsc210-kb/module/documents/CPSC_210_-_Implementing_an_Object_Oriented_Design.pdf_page_6.txt: 100%|██████████| 2/2 [00:00<00:00,  2.70it/s]\u001b[A\n",
      "Processing pages:  50%|█████     | 6/12 [00:37<00:39,  6.53s/it]\n",
      "Storing chunks for cpsc210-kb/module/documents/CPSC_210_-_Implementing_an_Object_Oriented_Design.pdf_page_7.txt:   0%|          | 0/2 [00:00<?, ?it/s]\u001b[A\n",
      "Storing chunks for cpsc210-kb/module/documents/CPSC_210_-_Implementing_an_Object_Oriented_Design.pdf_page_7.txt:  50%|█████     | 1/2 [00:00<00:00,  3.34it/s]\u001b[A\n",
      "Storing chunks for cpsc210-kb/module/documents/CPSC_210_-_Implementing_an_Object_Oriented_Design.pdf_page_7.txt: 100%|██████████| 2/2 [00:00<00:00,  2.68it/s]\u001b[A\n",
      "Processing pages:  58%|█████▊    | 7/12 [00:44<00:34,  6.91s/it]\n",
      "Storing chunks for cpsc210-kb/module/documents/CPSC_210_-_Implementing_an_Object_Oriented_Design.pdf_page_8.txt:   0%|          | 0/2 [00:00<?, ?it/s]\u001b[A\n",
      "Storing chunks for cpsc210-kb/module/documents/CPSC_210_-_Implementing_an_Object_Oriented_Design.pdf_page_8.txt:  50%|█████     | 1/2 [00:00<00:00,  3.31it/s]\u001b[A\n",
      "Storing chunks for cpsc210-kb/module/documents/CPSC_210_-_Implementing_an_Object_Oriented_Design.pdf_page_8.txt: 100%|██████████| 2/2 [00:00<00:00,  3.30it/s]\u001b[A\n",
      "Processing pages:  67%|██████▋   | 8/12 [00:50<00:25,  6.46s/it]\n",
      "Storing chunks for cpsc210-kb/module/documents/CPSC_210_-_Implementing_an_Object_Oriented_Design.pdf_page_9.txt:   0%|          | 0/2 [00:00<?, ?it/s]\u001b[A\n",
      "Storing chunks for cpsc210-kb/module/documents/CPSC_210_-_Implementing_an_Object_Oriented_Design.pdf_page_9.txt:  50%|█████     | 1/2 [00:00<00:00,  3.17it/s]\u001b[A\n",
      "Storing chunks for cpsc210-kb/module/documents/CPSC_210_-_Implementing_an_Object_Oriented_Design.pdf_page_9.txt: 100%|██████████| 2/2 [00:00<00:00,  3.30it/s]\u001b[A\n",
      "Processing pages:  75%|███████▌  | 9/12 [00:55<00:18,  6.07s/it]\n",
      "Storing chunks for cpsc210-kb/module/documents/CPSC_210_-_Implementing_an_Object_Oriented_Design.pdf_page_10.txt:   0%|          | 0/2 [00:00<?, ?it/s]\u001b[A\n",
      "Storing chunks for cpsc210-kb/module/documents/CPSC_210_-_Implementing_an_Object_Oriented_Design.pdf_page_10.txt:  50%|█████     | 1/2 [00:00<00:00,  2.52it/s]\u001b[A\n",
      "Storing chunks for cpsc210-kb/module/documents/CPSC_210_-_Implementing_an_Object_Oriented_Design.pdf_page_10.txt: 100%|██████████| 2/2 [00:00<00:00,  2.56it/s]\u001b[A\n",
      "Processing pages:  83%|████████▎ | 10/12 [01:02<00:12,  6.25s/it]\n",
      "Storing chunks for cpsc210-kb/module/documents/CPSC_210_-_Implementing_an_Object_Oriented_Design.pdf_page_11.txt:   0%|          | 0/2 [00:00<?, ?it/s]\u001b[A\n",
      "Storing chunks for cpsc210-kb/module/documents/CPSC_210_-_Implementing_an_Object_Oriented_Design.pdf_page_11.txt:  50%|█████     | 1/2 [00:00<00:00,  2.31it/s]\u001b[A\n",
      "Storing chunks for cpsc210-kb/module/documents/CPSC_210_-_Implementing_an_Object_Oriented_Design.pdf_page_11.txt: 100%|██████████| 2/2 [00:00<00:00,  2.43it/s]\u001b[A\n",
      "Processing pages:  92%|█████████▏| 11/12 [01:04<00:04,  4.99s/it]\n",
      "Storing chunks for cpsc210-kb/module/documents/CPSC_210_-_Implementing_an_Object_Oriented_Design.pdf_page_12.txt:   0%|          | 0/1 [00:00<?, ?it/s]\u001b[A\n",
      "Storing chunks for cpsc210-kb/module/documents/CPSC_210_-_Implementing_an_Object_Oriented_Design.pdf_page_12.txt: 100%|██████████| 1/1 [00:00<00:00,  2.23it/s]\u001b[A\n",
      "Processing pages: 100%|██████████| 12/12 [01:04<00:00,  5.41s/it]\n",
      "Processing pages:   0%|          | 0/6 [00:00<?, ?it/s]\n",
      "Storing chunks for cpsc210-kb/module/documents/CPSC_210_-_Iteration_Abstraction.pdf_page_1.txt:   0%|          | 0/3 [00:00<?, ?it/s]\u001b[A\n",
      "Storing chunks for cpsc210-kb/module/documents/CPSC_210_-_Iteration_Abstraction.pdf_page_1.txt:  33%|███▎      | 1/3 [00:00<00:00,  2.85it/s]\u001b[A\n",
      "Storing chunks for cpsc210-kb/module/documents/CPSC_210_-_Iteration_Abstraction.pdf_page_1.txt:  67%|██████▋   | 2/3 [00:00<00:00,  2.80it/s]\u001b[A\n",
      "Storing chunks for cpsc210-kb/module/documents/CPSC_210_-_Iteration_Abstraction.pdf_page_1.txt: 100%|██████████| 3/3 [00:01<00:00,  2.76it/s]\u001b[A\n",
      "Processing pages:  17%|█▋        | 1/6 [00:10<00:51, 10.24s/it]\n",
      "Storing chunks for cpsc210-kb/module/documents/CPSC_210_-_Iteration_Abstraction.pdf_page_2.txt:   0%|          | 0/2 [00:00<?, ?it/s]\u001b[A\n",
      "Storing chunks for cpsc210-kb/module/documents/CPSC_210_-_Iteration_Abstraction.pdf_page_2.txt:  50%|█████     | 1/2 [00:00<00:00,  2.44it/s]\u001b[A\n",
      "Storing chunks for cpsc210-kb/module/documents/CPSC_210_-_Iteration_Abstraction.pdf_page_2.txt: 100%|██████████| 2/2 [00:00<00:00,  2.51it/s]\u001b[A\n",
      "Processing pages:  33%|███▎      | 2/6 [00:18<00:35,  8.84s/it]\n",
      "Storing chunks for cpsc210-kb/module/documents/CPSC_210_-_Iteration_Abstraction.pdf_page_3.txt:   0%|          | 0/2 [00:00<?, ?it/s]\u001b[A\n",
      "Storing chunks for cpsc210-kb/module/documents/CPSC_210_-_Iteration_Abstraction.pdf_page_3.txt:  50%|█████     | 1/2 [00:00<00:00,  3.06it/s]\u001b[A\n",
      "Storing chunks for cpsc210-kb/module/documents/CPSC_210_-_Iteration_Abstraction.pdf_page_3.txt: 100%|██████████| 2/2 [00:00<00:00,  2.95it/s]\u001b[A\n",
      "Processing pages:  50%|█████     | 3/6 [00:25<00:24,  8.31s/it]\n",
      "Storing chunks for cpsc210-kb/module/documents/CPSC_210_-_Iteration_Abstraction.pdf_page_4.txt:   0%|          | 0/2 [00:00<?, ?it/s]\u001b[A\n",
      "Storing chunks for cpsc210-kb/module/documents/CPSC_210_-_Iteration_Abstraction.pdf_page_4.txt:  50%|█████     | 1/2 [00:00<00:00,  2.06it/s]\u001b[A\n",
      "Storing chunks for cpsc210-kb/module/documents/CPSC_210_-_Iteration_Abstraction.pdf_page_4.txt: 100%|██████████| 2/2 [00:01<00:00,  1.83it/s]\u001b[A\n",
      "Processing pages:  67%|██████▋   | 4/6 [00:33<00:16,  8.21s/it]\n",
      "Storing chunks for cpsc210-kb/module/documents/CPSC_210_-_Iteration_Abstraction.pdf_page_5.txt:   0%|          | 0/2 [00:00<?, ?it/s]\u001b[A\n",
      "Storing chunks for cpsc210-kb/module/documents/CPSC_210_-_Iteration_Abstraction.pdf_page_5.txt:  50%|█████     | 1/2 [00:00<00:00,  3.50it/s]\u001b[A\n",
      "Storing chunks for cpsc210-kb/module/documents/CPSC_210_-_Iteration_Abstraction.pdf_page_5.txt: 100%|██████████| 2/2 [00:00<00:00,  3.53it/s]\u001b[A\n",
      "Processing pages:  83%|████████▎ | 5/6 [00:39<00:07,  7.21s/it]\n",
      "Storing chunks for cpsc210-kb/module/documents/CPSC_210_-_Iteration_Abstraction.pdf_page_6.txt:   0%|          | 0/2 [00:00<?, ?it/s]\u001b[A\n",
      "Storing chunks for cpsc210-kb/module/documents/CPSC_210_-_Iteration_Abstraction.pdf_page_6.txt:  50%|█████     | 1/2 [00:00<00:00,  2.99it/s]\u001b[A\n",
      "Storing chunks for cpsc210-kb/module/documents/CPSC_210_-_Iteration_Abstraction.pdf_page_6.txt: 100%|██████████| 2/2 [00:00<00:00,  2.92it/s]\u001b[A\n",
      "Processing pages: 100%|██████████| 6/6 [00:43<00:00,  7.17s/it]\n",
      "Processing pages:   0%|          | 0/4 [00:00<?, ?it/s]\n",
      "Storing chunks for cpsc210-kb/module/documents/CPSC_210_-_Object_Oriented_Design_I.pdf_page_1.txt:   0%|          | 0/3 [00:00<?, ?it/s]\u001b[A\n",
      "Storing chunks for cpsc210-kb/module/documents/CPSC_210_-_Object_Oriented_Design_I.pdf_page_1.txt:  33%|███▎      | 1/3 [00:00<00:00,  2.95it/s]\u001b[A\n",
      "Storing chunks for cpsc210-kb/module/documents/CPSC_210_-_Object_Oriented_Design_I.pdf_page_1.txt:  67%|██████▋   | 2/3 [00:00<00:00,  2.94it/s]\u001b[A\n",
      "Storing chunks for cpsc210-kb/module/documents/CPSC_210_-_Object_Oriented_Design_I.pdf_page_1.txt: 100%|██████████| 3/3 [00:01<00:00,  2.82it/s]\u001b[A\n",
      "Processing pages:  25%|██▌       | 1/4 [00:09<00:27,  9.04s/it]\n",
      "Storing chunks for cpsc210-kb/module/documents/CPSC_210_-_Object_Oriented_Design_I.pdf_page_2.txt:   0%|          | 0/3 [00:00<?, ?it/s]\u001b[A\n",
      "Storing chunks for cpsc210-kb/module/documents/CPSC_210_-_Object_Oriented_Design_I.pdf_page_2.txt:  33%|███▎      | 1/3 [00:00<00:00,  2.74it/s]\u001b[A\n",
      "Storing chunks for cpsc210-kb/module/documents/CPSC_210_-_Object_Oriented_Design_I.pdf_page_2.txt:  67%|██████▋   | 2/3 [00:00<00:00,  2.89it/s]\u001b[A\n",
      "Storing chunks for cpsc210-kb/module/documents/CPSC_210_-_Object_Oriented_Design_I.pdf_page_2.txt: 100%|██████████| 3/3 [00:01<00:00,  2.84it/s]\u001b[A\n",
      "Processing pages:  50%|█████     | 2/4 [00:17<00:17,  8.88s/it]\n",
      "Storing chunks for cpsc210-kb/module/documents/CPSC_210_-_Object_Oriented_Design_I.pdf_page_3.txt:   0%|          | 0/1 [00:00<?, ?it/s]\u001b[A\n",
      "Storing chunks for cpsc210-kb/module/documents/CPSC_210_-_Object_Oriented_Design_I.pdf_page_3.txt: 100%|██████████| 1/1 [00:00<00:00,  3.14it/s]\u001b[A\n",
      "Processing pages:  75%|███████▌  | 3/4 [00:18<00:05,  5.00s/it]\n",
      "Storing chunks for cpsc210-kb/module/documents/CPSC_210_-_Object_Oriented_Design_I.pdf_page_4.txt:   0%|          | 0/2 [00:00<?, ?it/s]\u001b[A\n",
      "Storing chunks for cpsc210-kb/module/documents/CPSC_210_-_Object_Oriented_Design_I.pdf_page_4.txt:  50%|█████     | 1/2 [00:00<00:00,  2.87it/s]\u001b[A\n",
      "Storing chunks for cpsc210-kb/module/documents/CPSC_210_-_Object_Oriented_Design_I.pdf_page_4.txt: 100%|██████████| 2/2 [00:00<00:00,  2.80it/s]\u001b[A\n",
      "Processing pages: 100%|██████████| 4/4 [00:21<00:00,  5.47s/it]\n",
      "Processing pages:   0%|          | 0/4 [00:00<?, ?it/s]\n",
      "Storing chunks for cpsc210-kb/module/documents/CPSC_210_-_Object_Oriented_Design_II.pdf_page_1.txt:   0%|          | 0/2 [00:00<?, ?it/s]\u001b[A\n",
      "Storing chunks for cpsc210-kb/module/documents/CPSC_210_-_Object_Oriented_Design_II.pdf_page_1.txt:  50%|█████     | 1/2 [00:00<00:00,  3.56it/s]\u001b[A\n",
      "Storing chunks for cpsc210-kb/module/documents/CPSC_210_-_Object_Oriented_Design_II.pdf_page_1.txt: 100%|██████████| 2/2 [00:00<00:00,  3.55it/s]\u001b[A\n",
      "Processing pages:  25%|██▌       | 1/4 [00:05<00:17,  5.96s/it]\n",
      "Storing chunks for cpsc210-kb/module/documents/CPSC_210_-_Object_Oriented_Design_II.pdf_page_2.txt:   0%|          | 0/2 [00:00<?, ?it/s]\u001b[A\n",
      "Storing chunks for cpsc210-kb/module/documents/CPSC_210_-_Object_Oriented_Design_II.pdf_page_2.txt:  50%|█████     | 1/2 [00:00<00:00,  3.34it/s]\u001b[A\n",
      "Storing chunks for cpsc210-kb/module/documents/CPSC_210_-_Object_Oriented_Design_II.pdf_page_2.txt: 100%|██████████| 2/2 [00:00<00:00,  3.19it/s]\u001b[A\n",
      "Processing pages:  50%|█████     | 2/4 [00:12<00:12,  6.38s/it]\n",
      "Storing chunks for cpsc210-kb/module/documents/CPSC_210_-_Object_Oriented_Design_II.pdf_page_3.txt:   0%|          | 0/3 [00:00<?, ?it/s]\u001b[A\n",
      "Storing chunks for cpsc210-kb/module/documents/CPSC_210_-_Object_Oriented_Design_II.pdf_page_3.txt:  33%|███▎      | 1/3 [00:00<00:00,  2.72it/s]\u001b[A\n",
      "Storing chunks for cpsc210-kb/module/documents/CPSC_210_-_Object_Oriented_Design_II.pdf_page_3.txt:  67%|██████▋   | 2/3 [00:00<00:00,  3.12it/s]\u001b[A\n",
      "Storing chunks for cpsc210-kb/module/documents/CPSC_210_-_Object_Oriented_Design_II.pdf_page_3.txt: 100%|██████████| 3/3 [00:00<00:00,  3.22it/s]\u001b[A\n",
      "Processing pages:  75%|███████▌  | 3/4 [00:19<00:06,  6.82s/it]\n",
      "Storing chunks for cpsc210-kb/module/documents/CPSC_210_-_Object_Oriented_Design_II.pdf_page_4.txt:   0%|          | 0/3 [00:00<?, ?it/s]\u001b[A\n",
      "Storing chunks for cpsc210-kb/module/documents/CPSC_210_-_Object_Oriented_Design_II.pdf_page_4.txt:  33%|███▎      | 1/3 [00:00<00:00,  2.85it/s]\u001b[A\n",
      "Storing chunks for cpsc210-kb/module/documents/CPSC_210_-_Object_Oriented_Design_II.pdf_page_4.txt:  67%|██████▋   | 2/3 [00:00<00:00,  2.54it/s]\u001b[A\n",
      "Storing chunks for cpsc210-kb/module/documents/CPSC_210_-_Object_Oriented_Design_II.pdf_page_4.txt: 100%|██████████| 3/3 [00:01<00:00,  2.52it/s]\u001b[A\n",
      "Processing pages: 100%|██████████| 4/4 [00:28<00:00,  7.22s/it]\n",
      "Processing pages:   0%|          | 0/2 [00:00<?, ?it/s]\n",
      "Storing chunks for cpsc210-kb/module/documents/CPSC_210_-_Preamble.pdf_page_1.txt:   0%|          | 0/2 [00:00<?, ?it/s]\u001b[A\n",
      "Storing chunks for cpsc210-kb/module/documents/CPSC_210_-_Preamble.pdf_page_1.txt:  50%|█████     | 1/2 [00:00<00:00,  2.57it/s]\u001b[A\n",
      "Storing chunks for cpsc210-kb/module/documents/CPSC_210_-_Preamble.pdf_page_1.txt: 100%|██████████| 2/2 [00:00<00:00,  3.01it/s]\u001b[A\n",
      "Processing pages:  50%|█████     | 1/2 [00:06<00:06,  6.28s/it]\n",
      "Storing chunks for cpsc210-kb/module/documents/CPSC_210_-_Preamble.pdf_page_2.txt:   0%|          | 0/3 [00:00<?, ?it/s]\u001b[A\n",
      "Storing chunks for cpsc210-kb/module/documents/CPSC_210_-_Preamble.pdf_page_2.txt:  33%|███▎      | 1/3 [00:00<00:00,  2.70it/s]\u001b[A\n",
      "Storing chunks for cpsc210-kb/module/documents/CPSC_210_-_Preamble.pdf_page_2.txt:  67%|██████▋   | 2/3 [00:00<00:00,  2.61it/s]\u001b[A\n",
      "Storing chunks for cpsc210-kb/module/documents/CPSC_210_-_Preamble.pdf_page_2.txt: 100%|██████████| 3/3 [00:01<00:00,  2.64it/s]\u001b[A\n",
      "Processing pages: 100%|██████████| 2/2 [00:15<00:00,  7.67s/it]\n",
      "Processing pages:   0%|          | 0/10 [00:00<?, ?it/s]\n",
      "Storing chunks for cpsc210-kb/module/documents/CPSC_210_-_Robust_Classes.pdf_page_1.txt:   0%|          | 0/2 [00:00<?, ?it/s]\u001b[A\n",
      "Storing chunks for cpsc210-kb/module/documents/CPSC_210_-_Robust_Classes.pdf_page_1.txt:  50%|█████     | 1/2 [00:00<00:00,  3.56it/s]\u001b[A\n",
      "Storing chunks for cpsc210-kb/module/documents/CPSC_210_-_Robust_Classes.pdf_page_1.txt: 100%|██████████| 2/2 [00:00<00:00,  3.25it/s]\u001b[A\n",
      "Processing pages:  10%|█         | 1/10 [00:05<00:52,  5.80s/it]\n",
      "Storing chunks for cpsc210-kb/module/documents/CPSC_210_-_Robust_Classes.pdf_page_2.txt:   0%|          | 0/3 [00:00<?, ?it/s]\u001b[A\n",
      "Storing chunks for cpsc210-kb/module/documents/CPSC_210_-_Robust_Classes.pdf_page_2.txt:  33%|███▎      | 1/3 [00:00<00:00,  3.26it/s]\u001b[A\n",
      "Storing chunks for cpsc210-kb/module/documents/CPSC_210_-_Robust_Classes.pdf_page_2.txt:  67%|██████▋   | 2/3 [00:00<00:00,  2.58it/s]\u001b[A\n",
      "Storing chunks for cpsc210-kb/module/documents/CPSC_210_-_Robust_Classes.pdf_page_2.txt: 100%|██████████| 3/3 [00:01<00:00,  2.61it/s]\u001b[A\n",
      "Processing pages:  20%|██        | 2/10 [00:13<00:56,  7.10s/it]\n",
      "Storing chunks for cpsc210-kb/module/documents/CPSC_210_-_Robust_Classes.pdf_page_3.txt:   0%|          | 0/2 [00:00<?, ?it/s]\u001b[A\n",
      "Storing chunks for cpsc210-kb/module/documents/CPSC_210_-_Robust_Classes.pdf_page_3.txt:  50%|█████     | 1/2 [00:00<00:00,  3.31it/s]\u001b[A\n",
      "Storing chunks for cpsc210-kb/module/documents/CPSC_210_-_Robust_Classes.pdf_page_3.txt: 100%|██████████| 2/2 [00:00<00:00,  3.37it/s]\u001b[A\n",
      "Processing pages:  30%|███       | 3/10 [00:19<00:44,  6.39s/it]\n",
      "Storing chunks for cpsc210-kb/module/documents/CPSC_210_-_Robust_Classes.pdf_page_4.txt:   0%|          | 0/3 [00:00<?, ?it/s]\u001b[A\n",
      "Storing chunks for cpsc210-kb/module/documents/CPSC_210_-_Robust_Classes.pdf_page_4.txt:  33%|███▎      | 1/3 [00:00<00:00,  3.98it/s]\u001b[A\n",
      "Storing chunks for cpsc210-kb/module/documents/CPSC_210_-_Robust_Classes.pdf_page_4.txt:  67%|██████▋   | 2/3 [00:00<00:00,  3.91it/s]\u001b[A\n",
      "Storing chunks for cpsc210-kb/module/documents/CPSC_210_-_Robust_Classes.pdf_page_4.txt: 100%|██████████| 3/3 [00:00<00:00,  3.94it/s]\u001b[A\n",
      "Processing pages:  40%|████      | 4/10 [00:26<00:39,  6.58s/it]\n",
      "Storing chunks for cpsc210-kb/module/documents/CPSC_210_-_Robust_Classes.pdf_page_5.txt:   0%|          | 0/2 [00:00<?, ?it/s]\u001b[A\n",
      "Storing chunks for cpsc210-kb/module/documents/CPSC_210_-_Robust_Classes.pdf_page_5.txt:  50%|█████     | 1/2 [00:00<00:00,  2.88it/s]\u001b[A\n",
      "Storing chunks for cpsc210-kb/module/documents/CPSC_210_-_Robust_Classes.pdf_page_5.txt: 100%|██████████| 2/2 [00:00<00:00,  3.22it/s]\u001b[A\n",
      "Processing pages:  50%|█████     | 5/10 [00:31<00:30,  6.13s/it]\n",
      "Storing chunks for cpsc210-kb/module/documents/CPSC_210_-_Robust_Classes.pdf_page_6.txt:   0%|          | 0/2 [00:00<?, ?it/s]\u001b[A\n",
      "Storing chunks for cpsc210-kb/module/documents/CPSC_210_-_Robust_Classes.pdf_page_6.txt:  50%|█████     | 1/2 [00:00<00:00,  3.75it/s]\u001b[A\n",
      "Storing chunks for cpsc210-kb/module/documents/CPSC_210_-_Robust_Classes.pdf_page_6.txt: 100%|██████████| 2/2 [00:00<00:00,  3.76it/s]\u001b[A\n",
      "Processing pages:  60%|██████    | 6/10 [00:37<00:24,  6.19s/it]\n",
      "Storing chunks for cpsc210-kb/module/documents/CPSC_210_-_Robust_Classes.pdf_page_7.txt:   0%|          | 0/2 [00:00<?, ?it/s]\u001b[A\n",
      "Storing chunks for cpsc210-kb/module/documents/CPSC_210_-_Robust_Classes.pdf_page_7.txt:  50%|█████     | 1/2 [00:00<00:00,  3.47it/s]\u001b[A\n",
      "Storing chunks for cpsc210-kb/module/documents/CPSC_210_-_Robust_Classes.pdf_page_7.txt: 100%|██████████| 2/2 [00:00<00:00,  3.58it/s]\u001b[A\n",
      "Processing pages:  70%|███████   | 7/10 [00:42<00:17,  5.69s/it]\n",
      "Storing chunks for cpsc210-kb/module/documents/CPSC_210_-_Robust_Classes.pdf_page_8.txt:   0%|          | 0/2 [00:00<?, ?it/s]\u001b[A\n",
      "Storing chunks for cpsc210-kb/module/documents/CPSC_210_-_Robust_Classes.pdf_page_8.txt:  50%|█████     | 1/2 [00:00<00:00,  2.81it/s]\u001b[A\n",
      "Storing chunks for cpsc210-kb/module/documents/CPSC_210_-_Robust_Classes.pdf_page_8.txt: 100%|██████████| 2/2 [00:00<00:00,  2.80it/s]\u001b[A\n",
      "Processing pages:  80%|████████  | 8/10 [00:48<00:11,  5.93s/it]\n",
      "Storing chunks for cpsc210-kb/module/documents/CPSC_210_-_Robust_Classes.pdf_page_9.txt:   0%|          | 0/3 [00:00<?, ?it/s]\u001b[A\n",
      "Storing chunks for cpsc210-kb/module/documents/CPSC_210_-_Robust_Classes.pdf_page_9.txt:  33%|███▎      | 1/3 [00:00<00:00,  3.05it/s]\u001b[A\n",
      "Storing chunks for cpsc210-kb/module/documents/CPSC_210_-_Robust_Classes.pdf_page_9.txt:  67%|██████▋   | 2/3 [00:00<00:00,  2.86it/s]\u001b[A\n",
      "Storing chunks for cpsc210-kb/module/documents/CPSC_210_-_Robust_Classes.pdf_page_9.txt: 100%|██████████| 3/3 [00:01<00:00,  2.86it/s]\u001b[A\n",
      "Processing pages:  90%|█████████ | 9/10 [00:57<00:06,  6.86s/it]\n",
      "Storing chunks for cpsc210-kb/module/documents/CPSC_210_-_Robust_Classes.pdf_page_10.txt:   0%|          | 0/3 [00:00<?, ?it/s]\u001b[A\n",
      "Storing chunks for cpsc210-kb/module/documents/CPSC_210_-_Robust_Classes.pdf_page_10.txt:  33%|███▎      | 1/3 [00:00<00:00,  3.24it/s]\u001b[A\n",
      "Storing chunks for cpsc210-kb/module/documents/CPSC_210_-_Robust_Classes.pdf_page_10.txt:  67%|██████▋   | 2/3 [00:00<00:00,  2.55it/s]\u001b[A\n",
      "Storing chunks for cpsc210-kb/module/documents/CPSC_210_-_Robust_Classes.pdf_page_10.txt: 100%|██████████| 3/3 [00:01<00:00,  2.54it/s]\u001b[A\n",
      "Processing pages: 100%|██████████| 10/10 [01:06<00:00,  6.63s/it]\n",
      "Processing pages:   0%|          | 0/12 [00:00<?, ?it/s]\n",
      "Storing chunks for cpsc210-kb/module/documents/CPSC_210_-_Type_Hierarchies.pdf_page_1.txt:   0%|          | 0/2 [00:00<?, ?it/s]\u001b[A\n",
      "Storing chunks for cpsc210-kb/module/documents/CPSC_210_-_Type_Hierarchies.pdf_page_1.txt:  50%|█████     | 1/2 [00:00<00:00,  2.58it/s]\u001b[A\n",
      "Storing chunks for cpsc210-kb/module/documents/CPSC_210_-_Type_Hierarchies.pdf_page_1.txt: 100%|██████████| 2/2 [00:00<00:00,  2.75it/s]\u001b[A\n",
      "Processing pages:   8%|▊         | 1/12 [00:05<00:55,  5.00s/it]\n",
      "Storing chunks for cpsc210-kb/module/documents/CPSC_210_-_Type_Hierarchies.pdf_page_2.txt:   0%|          | 0/2 [00:00<?, ?it/s]\u001b[A\n",
      "Storing chunks for cpsc210-kb/module/documents/CPSC_210_-_Type_Hierarchies.pdf_page_2.txt:  50%|█████     | 1/2 [00:00<00:00,  3.05it/s]\u001b[A\n",
      "Storing chunks for cpsc210-kb/module/documents/CPSC_210_-_Type_Hierarchies.pdf_page_2.txt: 100%|██████████| 2/2 [00:00<00:00,  2.34it/s]\u001b[A\n",
      "Processing pages:  17%|█▋        | 2/12 [00:10<00:54,  5.50s/it]\n",
      "Storing chunks for cpsc210-kb/module/documents/CPSC_210_-_Type_Hierarchies.pdf_page_3.txt:   0%|          | 0/2 [00:00<?, ?it/s]\u001b[A\n",
      "Storing chunks for cpsc210-kb/module/documents/CPSC_210_-_Type_Hierarchies.pdf_page_3.txt:  50%|█████     | 1/2 [00:00<00:00,  3.27it/s]\u001b[A\n",
      "Storing chunks for cpsc210-kb/module/documents/CPSC_210_-_Type_Hierarchies.pdf_page_3.txt: 100%|██████████| 2/2 [00:00<00:00,  3.26it/s]\u001b[A\n",
      "Processing pages:  25%|██▌       | 3/12 [00:16<00:51,  5.67s/it]\n",
      "Storing chunks for cpsc210-kb/module/documents/CPSC_210_-_Type_Hierarchies.pdf_page_4.txt:   0%|          | 0/2 [00:00<?, ?it/s]\u001b[A\n",
      "Storing chunks for cpsc210-kb/module/documents/CPSC_210_-_Type_Hierarchies.pdf_page_4.txt:  50%|█████     | 1/2 [00:00<00:00,  3.54it/s]\u001b[A\n",
      "Storing chunks for cpsc210-kb/module/documents/CPSC_210_-_Type_Hierarchies.pdf_page_4.txt: 100%|██████████| 2/2 [00:00<00:00,  3.22it/s]\u001b[A\n",
      "Processing pages:  33%|███▎      | 4/12 [00:23<00:49,  6.19s/it]\n",
      "Storing chunks for cpsc210-kb/module/documents/CPSC_210_-_Type_Hierarchies.pdf_page_5.txt:   0%|          | 0/3 [00:00<?, ?it/s]\u001b[A\n",
      "Storing chunks for cpsc210-kb/module/documents/CPSC_210_-_Type_Hierarchies.pdf_page_5.txt:  33%|███▎      | 1/3 [00:00<00:00,  2.29it/s]\u001b[A\n",
      "Storing chunks for cpsc210-kb/module/documents/CPSC_210_-_Type_Hierarchies.pdf_page_5.txt:  67%|██████▋   | 2/3 [00:00<00:00,  2.63it/s]\u001b[A\n",
      "Storing chunks for cpsc210-kb/module/documents/CPSC_210_-_Type_Hierarchies.pdf_page_5.txt: 100%|██████████| 3/3 [00:01<00:00,  2.84it/s]\u001b[A\n",
      "Processing pages:  42%|████▏     | 5/12 [00:32<00:49,  7.02s/it]\n",
      "Storing chunks for cpsc210-kb/module/documents/CPSC_210_-_Type_Hierarchies.pdf_page_6.txt:   0%|          | 0/2 [00:00<?, ?it/s]\u001b[A\n",
      "Storing chunks for cpsc210-kb/module/documents/CPSC_210_-_Type_Hierarchies.pdf_page_6.txt:  50%|█████     | 1/2 [00:00<00:00,  3.39it/s]\u001b[A\n",
      "Storing chunks for cpsc210-kb/module/documents/CPSC_210_-_Type_Hierarchies.pdf_page_6.txt: 100%|██████████| 2/2 [00:00<00:00,  3.25it/s]\u001b[A\n",
      "Processing pages:  50%|█████     | 6/12 [00:39<00:42,  7.03s/it]\n",
      "Storing chunks for cpsc210-kb/module/documents/CPSC_210_-_Type_Hierarchies.pdf_page_7.txt:   0%|          | 0/3 [00:00<?, ?it/s]\u001b[A\n",
      "Storing chunks for cpsc210-kb/module/documents/CPSC_210_-_Type_Hierarchies.pdf_page_7.txt:  33%|███▎      | 1/3 [00:00<00:00,  3.04it/s]\u001b[A\n",
      "Storing chunks for cpsc210-kb/module/documents/CPSC_210_-_Type_Hierarchies.pdf_page_7.txt:  67%|██████▋   | 2/3 [00:00<00:00,  2.31it/s]\u001b[A\n",
      "Storing chunks for cpsc210-kb/module/documents/CPSC_210_-_Type_Hierarchies.pdf_page_7.txt: 100%|██████████| 3/3 [00:01<00:00,  2.34it/s]\u001b[A\n",
      "Processing pages:  58%|█████▊    | 7/12 [00:47<00:37,  7.54s/it]\n",
      "Storing chunks for cpsc210-kb/module/documents/CPSC_210_-_Type_Hierarchies.pdf_page_8.txt:   0%|          | 0/2 [00:00<?, ?it/s]\u001b[A\n",
      "Storing chunks for cpsc210-kb/module/documents/CPSC_210_-_Type_Hierarchies.pdf_page_8.txt:  50%|█████     | 1/2 [00:00<00:00,  3.16it/s]\u001b[A\n",
      "Storing chunks for cpsc210-kb/module/documents/CPSC_210_-_Type_Hierarchies.pdf_page_8.txt: 100%|██████████| 2/2 [00:00<00:00,  2.72it/s]\u001b[A\n",
      "Processing pages:  67%|██████▋   | 8/12 [00:53<00:27,  6.99s/it]\n",
      "Storing chunks for cpsc210-kb/module/documents/CPSC_210_-_Type_Hierarchies.pdf_page_9.txt:   0%|          | 0/2 [00:00<?, ?it/s]\u001b[A\n",
      "Storing chunks for cpsc210-kb/module/documents/CPSC_210_-_Type_Hierarchies.pdf_page_9.txt:  50%|█████     | 1/2 [00:00<00:00,  3.44it/s]\u001b[A\n",
      "Storing chunks for cpsc210-kb/module/documents/CPSC_210_-_Type_Hierarchies.pdf_page_9.txt: 100%|██████████| 2/2 [00:00<00:00,  3.44it/s]\u001b[A\n",
      "Processing pages:  75%|███████▌  | 9/12 [00:59<00:20,  6.78s/it]\n",
      "Storing chunks for cpsc210-kb/module/documents/CPSC_210_-_Type_Hierarchies.pdf_page_10.txt:   0%|          | 0/2 [00:00<?, ?it/s]\u001b[A\n",
      "Storing chunks for cpsc210-kb/module/documents/CPSC_210_-_Type_Hierarchies.pdf_page_10.txt:  50%|█████     | 1/2 [00:00<00:00,  3.31it/s]\u001b[A\n",
      "Storing chunks for cpsc210-kb/module/documents/CPSC_210_-_Type_Hierarchies.pdf_page_10.txt: 100%|██████████| 2/2 [00:00<00:00,  3.44it/s]\u001b[A\n",
      "Processing pages:  83%|████████▎ | 10/12 [01:04<00:12,  6.21s/it]\n",
      "Storing chunks for cpsc210-kb/module/documents/CPSC_210_-_Type_Hierarchies.pdf_page_11.txt:   0%|          | 0/2 [00:00<?, ?it/s]\u001b[A\n",
      "Storing chunks for cpsc210-kb/module/documents/CPSC_210_-_Type_Hierarchies.pdf_page_11.txt:  50%|█████     | 1/2 [00:00<00:00,  3.72it/s]\u001b[A\n",
      "Storing chunks for cpsc210-kb/module/documents/CPSC_210_-_Type_Hierarchies.pdf_page_11.txt: 100%|██████████| 2/2 [00:00<00:00,  3.70it/s]\u001b[A\n",
      "Processing pages:  92%|█████████▏| 11/12 [01:11<00:06,  6.41s/it]\n",
      "Storing chunks for cpsc210-kb/module/documents/CPSC_210_-_Type_Hierarchies.pdf_page_12.txt:   0%|          | 0/2 [00:00<?, ?it/s]\u001b[A\n",
      "Storing chunks for cpsc210-kb/module/documents/CPSC_210_-_Type_Hierarchies.pdf_page_12.txt:  50%|█████     | 1/2 [00:00<00:00,  3.33it/s]\u001b[A\n",
      "Storing chunks for cpsc210-kb/module/documents/CPSC_210_-_Type_Hierarchies.pdf_page_12.txt: 100%|██████████| 2/2 [00:00<00:00,  2.84it/s]\u001b[A\n",
      "Processing pages: 100%|██████████| 12/12 [01:18<00:00,  6.52s/it]\n"
     ]
    },
    {
     "name": "stdout",
     "output_type": "stream",
     "text": [
      "Indexing updates: \n",
      " {'num_added': 164, 'num_updated': 0, 'num_skipped': 0, 'num_deleted': 164}\n"
     ]
    },
    {
     "name": "stderr",
     "output_type": "stream",
     "text": [
      "INFO:processing.figures:Adding image galaxy.jpg to the vectorstore\n",
      "INFO:processing.figures:Successfully added image galaxy.jpg to the vectorstore\n"
     ]
    }
   ],
   "source": [
    "# Step 1) Specify the new bucket and course, along with the multimodal embeddings function (currently, OpenCLIP is the best)\n",
    "bucket = 'aila-data-ingestion-bucket'\n",
    "course = 'cpsc210-kb'\n",
    "embeddings = OpenCLIPEmbeddings()\n",
    "\n",
    "# Step 2) Use AWS Secrets Manager config for the RDS secret\n",
    "secret_name = \"credentials/rdsDbCredential\"\n",
    "param_manager = get_param_manager()\n",
    "\n",
    "# Step 3) Get RDS secrets to get connection parameters\n",
    "db_secret = param_manager.get_secret(secret_name)\n",
    "\n",
    "# Step 4) Construct the vectorstore configuration dictionary\n",
    "vectorstore_config_dict = {\n",
    "    'collection_name': 'CPSC_210XYZ',\n",
    "    'dbname': db_secret[\"dbname\"],\n",
    "    'user': db_secret[\"username\"],\n",
    "    'password': db_secret[\"password\"],\n",
    "    'host': db_secret[\"host\"],\n",
    "    'port': db_secret[\"port\"]\n",
    "}\n",
    "\n",
    "# Step 5) Call the function! The function returns nothing, so you could call it like this:\n",
    "\n",
    "_ = update_vectorstore(\n",
    "    bucket=bucket,\n",
    "    course=course,\n",
    "    vectorstore_config_dict=vectorstore_config_dict,\n",
    "    embeddings=embeddings\n",
    ")"
   ]
  },
  {
   "cell_type": "markdown",
   "id": "48810a1c",
   "metadata": {},
   "source": [
    "## 2. Calling the 'get_vectorstore_retriever' function to use for conversations"
   ]
  },
  {
   "cell_type": "code",
   "execution_count": 2,
   "id": "9245a629",
   "metadata": {},
   "outputs": [
    {
     "name": "stderr",
     "output_type": "stream",
     "text": [
      "INFO:root:Loaded ViT-H-14 model config.\n",
      "INFO:root:Loading pretrained ViT-H-14 weights (laion2b_s32b_b79k).\n",
      "INFO:botocore.credentials:Found credentials from IAM Role: BaseNotebookInstanceEc2InstanceRole\n",
      "INFO:botocore.credentials:Found credentials from IAM Role: BaseNotebookInstanceEc2InstanceRole\n",
      "INFO:helpers.helper:Connecting to the database\n"
     ]
    },
    {
     "name": "stdout",
     "output_type": "stream",
     "text": [
      "No named profile found, running default session\n",
      "AWS session and clients initialized successfully.\n",
      "Got param manager for region: None\n"
     ]
    },
    {
     "name": "stderr",
     "output_type": "stream",
     "text": [
      "INFO:helpers.helper:Connected to the database\n",
      "INFO:helpers.helper:Initializing the VectorStore\n",
      "INFO:helpers.helper:VectorStore initialized\n"
     ]
    }
   ],
   "source": [
    "# Step 1) Specify the Bedrock LLM ID and the multimodal embeddings function (currently, OpenCLIP is the best)\n",
    "bedrock_llm_id = \"meta.llama3-70b-instruct-v1:0\"\n",
    "embeddings = OpenCLIPEmbeddings()\n",
    "\n",
    "# Step 2) Obtain the Bedrock LLM from the get_bedrock_llm function\n",
    "llm = get_bedrock_llm(bedrock_llm_id=bedrock_llm_id)\n",
    "\n",
    "# Step 3) Use AWS Secrets Manager config for the RDS secret\n",
    "secret_name = \"credentials/rdsDbCredential\"\n",
    "param_manager = get_param_manager()\n",
    "\n",
    "# Step 4) Get RDS secrets to get connection parameters\n",
    "db_secret = param_manager.get_secret(secret_name)\n",
    "\n",
    "# Step 5) Construct the vectorstore configuration dictionary\n",
    "vectorstore_config_dict = {\n",
    "    'collection_name': 'CPSC_210',\n",
    "    'dbname': db_secret[\"dbname\"],\n",
    "    'user': db_secret[\"username\"],\n",
    "    'password': db_secret[\"password\"],\n",
    "    'host': db_secret[\"host\"],\n",
    "    'port': db_secret[\"port\"]\n",
    "}\n",
    "\n",
    "# Step 6) Call the function! The function returns the history_aware_retriever, so you can call it like this:\n",
    "history_aware_retriever = get_vectorstore_retriever(\n",
    "    llm=llm,\n",
    "    vectorstore_config_dict=vectorstore_config_dict,\n",
    "    embeddings=embeddings\n",
    ")"
   ]
  },
  {
   "cell_type": "markdown",
   "id": "56a812f8",
   "metadata": {},
   "source": [
    "## 3. Starting a conversation"
   ]
  },
  {
   "cell_type": "code",
   "execution_count": 3,
   "id": "2b9d38df",
   "metadata": {},
   "outputs": [
    {
     "name": "stderr",
     "output_type": "stream",
     "text": [
      "INFO:botocore.credentials:Found credentials from IAM Role: BaseNotebookInstanceEc2InstanceRole\n",
      "INFO:root:Loaded ViT-H-14 model config.\n"
     ]
    },
    {
     "name": "stdout",
     "output_type": "stream",
     "text": [
      "Got param manager for region: None\n"
     ]
    },
    {
     "name": "stderr",
     "output_type": "stream",
     "text": [
      "INFO:root:Loading pretrained ViT-H-14 weights (laion2b_s32b_b79k).\n",
      "INFO:helpers.helper:Connecting to the database\n",
      "INFO:helpers.helper:Connected to the database\n",
      "INFO:helpers.helper:Initializing the VectorStore\n",
      "INFO:helpers.helper:VectorStore initialized\n"
     ]
    },
    {
     "data": {
      "text/plain": [
       "{'llm_output': \"Hello! I'm excited to help you master the topic of data abstraction.\\n\\nData abstraction is a fundamental concept in computer science, and I'm here to guide you through it. To get started, can you tell me what you think data abstraction is and why it's important in programming?\",\n",
       " 'llm_verdict': False}"
      ]
     },
     "execution_count": 3,
     "metadata": {},
     "output_type": "execute_result"
    }
   ],
   "source": [
    "# Step 1) Define the topic for which the student's knowledge needs to be assessed\n",
    "topic = \"data abstraction\"\n",
    "\n",
    "# Step 2) Get the initial student query based on the specified topic. This query will trigger the first message shown to the student when they begin the chat\n",
    "student_query = get_initial_student_query(topic=topic)\n",
    "\n",
    "# Step 3) Obtain the Bedrock LLM by specifying its ID\n",
    "bedrock_llm_id = \"meta.llama3-70b-instruct-v1:0\"\n",
    "llm = get_bedrock_llm(bedrock_llm_id=bedrock_llm_id)\n",
    "\n",
    "# Step 4) Use AWS Secrets Manager to retrieve the RDS secret\n",
    "secret_name = \"credentials/rdsDbCredential\"\n",
    "param_manager = get_param_manager()\n",
    "\n",
    "# Step 5) Get the RDS secrets, which include the connection parameters needed to interact with the database.\n",
    "db_secret = param_manager.get_secret(secret_name)\n",
    "\n",
    "# Step 6) Construct the vectorstore configuration dictionary using the retrieved RDS secrets, and then obtain the history-aware retriever for processing the student's queries\n",
    "vectorstore_config_dict = {\n",
    "    'collection_name': 'CPSC_210',\n",
    "    'dbname': db_secret[\"dbname\"],\n",
    "    'user': db_secret[\"username\"],\n",
    "    'password': db_secret[\"password\"],\n",
    "    'host': db_secret[\"host\"],\n",
    "    'port': db_secret[\"port\"]\n",
    "}\n",
    "\n",
    "embeddings = OpenCLIPEmbeddings()\n",
    "\n",
    "history_aware_retriever = get_vectorstore_retriever(\n",
    "    llm=llm,\n",
    "    vectorstore_config_dict=vectorstore_config_dict,\n",
    "    embeddings=embeddings\n",
    ")\n",
    "\n",
    "# Step 7) Define the DynamoDB table name and session ID\n",
    "table_name = \"SessionTable3x\"\n",
    "session_id = \"Test-Sean2\"\n",
    "\n",
    "# Step 8) Create the DynamoDB table to store the session history if it doesn't already exist.\n",
    "# NOTE: In case the table already exists, this function just skips the table creation process, so you don't have to worry about running into an error if you call it and the table already exists).\n",
    "create_dynamodb_history_table(table_name=table_name)\n",
    "\n",
    "# Step 9) Execute the main function to get a response for the student's query, using all the components defined above\n",
    "get_response(\n",
    "    query=student_query,\n",
    "    topic=topic,\n",
    "    llm=llm,\n",
    "    history_aware_retriever=history_aware_retriever,\n",
    "    table_name=table_name,\n",
    "    session_id=session_id\n",
    ")\n"
   ]
  },
  {
   "cell_type": "markdown",
   "id": "21e8222d",
   "metadata": {},
   "source": [
    "## 4. Continuing a conversation"
   ]
  },
  {
   "cell_type": "code",
   "execution_count": 4,
   "id": "937889d5",
   "metadata": {},
   "outputs": [
    {
     "data": {
      "text/plain": [
       "{'llm_output': \"It seems like you didn't provide an answer. That's okay! Let me try to help you get started.\\n\\nData abstraction is a concept in programming that allows us to show only the necessary information to the outside world while hiding the internal details. It's like a car, for example. You don't need to know how the engine works to drive the car; you only need to know how to interact with it (e.g., press the accelerator, brake, and steer).\\n\\nCan you think of a simple example in programming where data abstraction is useful?\",\n",
       " 'llm_verdict': False}"
      ]
     },
     "execution_count": 4,
     "metadata": {},
     "output_type": "execute_result"
    }
   ],
   "source": [
    "# Step 1) Get the structured student query from their raw query\n",
    "raw_query = \"\"\"\n",
    "\n",
    "\n",
    "\"\"\"\n",
    "student_query = get_student_query(raw_query)\n",
    "\n",
    "# The rest of the stuff remains the same, so, just call get_response() again\n",
    "get_response(\n",
    "    query=student_query,\n",
    "    topic=topic,\n",
    "    llm=llm,\n",
    "    history_aware_retriever=history_aware_retriever,\n",
    "    table_name=table_name,\n",
    "    session_id=session_id\n",
    ")"
   ]
  },
  {
   "cell_type": "code",
   "execution_count": 11,
   "id": "c20fbe2c",
   "metadata": {},
   "outputs": [
    {
     "data": {
      "text/plain": [
       "{'llm_output': \"That's absolutely right! You've correctly distinguished between abstraction and encapsulation. Abstraction focuses on exposing only the necessary features, while encapsulation is about protecting the internal state and controlling access to it.\\n\\nHere's a question to delve deeper: How do abstract data types (ADTs) relate to data abstraction, and what are some common examples of ADTs in programming?\",\n",
       " 'llm_verdict': False}"
      ]
     },
     "execution_count": 11,
     "metadata": {},
     "output_type": "execute_result"
    }
   ],
   "source": [
    "# Here's how you can continue calling this function\n",
    "\n",
    "# Step 1) Get the structured student query from their raw query\n",
    "raw_query = \"\"\"\n",
    "Abstraction simplifies interaction with objects by exposing only the necessary features, while encapsulation protects the object’s internal state and ensures that it is accessed and modified in a controlled manner.\n",
    "\n",
    "\"\"\"\n",
    "student_query = get_student_query(raw_query)\n",
    "\n",
    "# The rest of the stuff remains the same, so, just call get_response() again\n",
    "get_response(\n",
    "    query=student_query,\n",
    "    topic=topic,\n",
    "    llm=llm,\n",
    "    history_aware_retriever=history_aware_retriever,\n",
    "    table_name=table_name,\n",
    "    session_id=session_id\n",
    ")"
   ]
  },
  {
   "cell_type": "code",
   "execution_count": 12,
   "id": "349af9c1",
   "metadata": {},
   "outputs": [
    {
     "data": {
      "text/plain": [
       "{'llm_output': \"That's spot on! You've correctly explained how ADTs promote data abstraction by separating the interface from the implementation, allowing you to focus on the behavior rather than the implementation details. And you've provided a great example of Lists in Python, which is a classic ADT.\\n\\nHere's a question to further solidify your understanding: How do interfaces in object-oriented programming languages, such as Java or C#, relate to abstract data types and data abstraction?\",\n",
       " 'llm_verdict': False}"
      ]
     },
     "execution_count": 12,
     "metadata": {},
     "output_type": "execute_result"
    }
   ],
   "source": [
    "raw_query = \"\"\"\n",
    "Abstract Data Types (ADTs) in programming promote data abstraction by separating the interface from the implementation.\n",
    "This means that you can define and use data types based on their behavior rather than knowing their implementation details.\n",
    "Examples include Lists in Python and how you can use built-in methods like len, index, remove, pop, etc to perform functions on a List.\n",
    "\"\"\"\n",
    "student_query = get_student_query(raw_query)\n",
    "\n",
    "get_response(\n",
    "    query=student_query,\n",
    "    topic=topic,\n",
    "    llm=llm,\n",
    "    history_aware_retriever=history_aware_retriever,\n",
    "    table_name=table_name,\n",
    "    session_id=session_id\n",
    ")"
   ]
  },
  {
   "cell_type": "code",
   "execution_count": null,
   "id": "89c1aab2",
   "metadata": {},
   "outputs": [],
   "source": [
    "# Here's how you can continue calling this function\n",
    "\n",
    "# Step 1) Get the structured student query from their raw query\n",
    "raw_query = \"\"\"\n",
    "Is this the real life? Is this just fantasy?\n",
    "Caught in a landslide, no escape from reality.\n",
    "\"\"\"\n",
    "student_query = get_student_query(raw_query)\n",
    "\n",
    "# The rest of the stuff remains the same, so, just call get_response() again\n",
    "get_response(\n",
    "    query=student_query,\n",
    "    topic=topic,\n",
    "    llm=llm,\n",
    "    history_aware_retriever=history_aware_retriever,\n",
    "    table_name=table_name,\n",
    "    session_id=session_id\n",
    ")"
   ]
  },
  {
   "cell_type": "code",
   "execution_count": 6,
   "id": "e553df54",
   "metadata": {},
   "outputs": [
    {
     "data": {
      "text/plain": [
       "{'llm_output': \"It can be tough to stay motivated when studying a new concept. But don't worry, I'm here to help make it more engaging and fun!\\n\\nLet's take a break from the questions and do something different. I'll share a fun fact about data abstraction, and then we can come back to the questions when you're ready.\\n\\nHere's the fun fact:\\n\\nDid you know that data abstraction is used in many real-world systems, such as banking and finance? For example, when you use an ATM to withdraw cash, the ATM doesn't need to know the internal details of your bank account. It only needs to interact with the account through a public interface, which is an example of data abstraction in action!\\n\\nFeel free to take a break, and when you're ready, we can continue exploring data abstraction together.\",\n",
       " 'llm_verdict': False}"
      ]
     },
     "execution_count": 6,
     "metadata": {},
     "output_type": "execute_result"
    }
   ],
   "source": [
    "# Here's how you can continue calling this function\n",
    "\n",
    "# Step 1) Get the structured student query from their raw query\n",
    "raw_query = \"\"\"\n",
    "Nah, I don't really want to study anymore.\n",
    "\"\"\"\n",
    "student_query = get_student_query(raw_query)\n",
    "\n",
    "# The rest of the stuff remains the same, so, just call get_response() again\n",
    "get_response(\n",
    "    query=student_query,\n",
    "    topic=topic,\n",
    "    llm=llm,\n",
    "    history_aware_retriever=history_aware_retriever,\n",
    "    table_name=table_name,\n",
    "    session_id=session_id\n",
    ")"
   ]
  }
 ],
 "metadata": {
  "kernelspec": {
   "display_name": "conda_pytorch_p310",
   "language": "python",
   "name": "conda_pytorch_p310"
  },
  "language_info": {
   "codemirror_mode": {
    "name": "ipython",
    "version": 3
   },
   "file_extension": ".py",
   "mimetype": "text/x-python",
   "name": "python",
   "nbconvert_exporter": "python",
   "pygments_lexer": "ipython3",
   "version": "3.10.14"
  }
 },
 "nbformat": 4,
 "nbformat_minor": 5
}
